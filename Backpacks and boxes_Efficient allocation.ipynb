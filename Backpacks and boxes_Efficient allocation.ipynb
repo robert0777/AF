{
 "cells": [
  {
   "cell_type": "markdown",
   "metadata": {
    "collapsed": true
   },
   "source": [
    "# Efficient Allocation - Knapsack Problem\n",
    "\n",
    "\n",
    "Filling 10 backpacks with 20 different size boxes might seem a common task BUT different variables have to be considered to achieve this.\n",
    "Share with us the best approach to obtain an efficient allocation of these 20 boxes into the available backpacks.\n",
    "\n",
    "Hint:  \n",
    "\n",
    "• Box type (assume type A and type B)  \n",
    "\n",
    "• Box size (they are not the same)  \n",
    "\n",
    "• Backpack capacity (they are not the same)  \n",
    "\n",
    "• Box timing (Boxes at the end of the truck might be a better fit)  \n",
    "\n",
    "\n",
    "Do you think it is possible to fill every backpack with all the available boxes? Maybe the “Knapsack Problem” rings a bell.\n",
    "\n",
    "# Dr. Robert Hernández Martínez  \n",
    "\n",
    "# robert@actuariayfinanzas.net\n",
    "\n",
    "  \n",
    "  \n",
    "Go ahead!\n"
   ]
  },
  {
   "cell_type": "code",
   "execution_count": 1,
   "metadata": {
    "scrolled": true
   },
   "outputs": [
    {
     "name": "stdout",
     "output_type": "stream",
     "text": [
      "Collecting knapsack\n",
      "  Downloading https://files.pythonhosted.org/packages/03/8b/c86c677ffbaa2738843f3d7ab4dcf085d72fd413d699543072d1a2d1cd80/knapsack-0.0.4.tar.gz\n",
      "Building wheels for collected packages: knapsack\n",
      "  Building wheel for knapsack (setup.py) ... \u001b[?25ldone\n",
      "\u001b[?25h  Stored in directory: /home/dsxuser/.cache/pip/wheels/ca/ca/85/4d6fceb6266286bb50addef3f490c6f3656e40d7ee9879b80d\n",
      "Successfully built knapsack\n",
      "Installing collected packages: knapsack\n",
      "Successfully installed knapsack-0.0.4\n"
     ]
    }
   ],
   "source": [
    "# Install knapsack\n",
    "!pip install knapsack"
   ]
  },
  {
   "cell_type": "code",
   "execution_count": 47,
   "metadata": {},
   "outputs": [
    {
     "data": {
      "text/plain": [
       "(134, [0, 1, 2, 3, 5, 6, 7])"
      ]
     },
     "execution_count": 47,
     "metadata": {},
     "output_type": "execute_result"
    }
   ],
   "source": [
    "# Code for the first backpack (project):\n",
    "import knapsack\n",
    "size = [21, 11, 15, 9, 43, 25, 14, 4, 23, 18] # Size of Type A boxes\n",
    "weight = [15, 22, 24, 27, 32, 28, 2, 16, 7, 10] # Size of Type B boxes\n",
    "capacity = 100 # This is the total backpacks capacity\n",
    "knapsack.knapsack(size, weight).solve(capacity)"
   ]
  },
  {
   "cell_type": "code",
   "execution_count": null,
   "metadata": {},
   "outputs": [],
   "source": []
  }
 ],
 "metadata": {
  "kernelspec": {
   "display_name": "Python 3.6",
   "language": "python",
   "name": "python3"
  },
  "language_info": {
   "codemirror_mode": {
    "name": "ipython",
    "version": 3
   },
   "file_extension": ".py",
   "mimetype": "text/x-python",
   "name": "python",
   "nbconvert_exporter": "python",
   "pygments_lexer": "ipython3",
   "version": "3.6.9"
  }
 },
 "nbformat": 4,
 "nbformat_minor": 1
}
